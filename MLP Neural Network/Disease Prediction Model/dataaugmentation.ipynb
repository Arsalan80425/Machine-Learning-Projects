{
 "cells": [
  {
   "cell_type": "code",
   "execution_count": 8,
   "metadata": {},
   "outputs": [
    {
     "name": "stdout",
     "output_type": "stream",
     "text": [
      "Original Data:\n",
      "   itching  skin_rash  nodal_skin_eruptions  continuous_sneezing  shivering  \\\n",
      "0        1          1                     1                    0          0   \n",
      "1        0          1                     1                    0          0   \n",
      "2        1          0                     1                    0          0   \n",
      "3        1          1                     0                    0          0   \n",
      "4        1          1                     1                    0          0   \n",
      "\n",
      "   chills  joint_pain  stomach_pain  acidity  ulcers_on_tongue  ...  \\\n",
      "0       0           0             0        0                 0  ...   \n",
      "1       0           0             0        0                 0  ...   \n",
      "2       0           0             0        0                 0  ...   \n",
      "3       0           0             0        0                 0  ...   \n",
      "4       0           0             0        0                 0  ...   \n",
      "\n",
      "   blackheads  scurring  skin_peeling  silver_like_dusting  \\\n",
      "0           0         0             0                    0   \n",
      "1           0         0             0                    0   \n",
      "2           0         0             0                    0   \n",
      "3           0         0             0                    0   \n",
      "4           0         0             0                    0   \n",
      "\n",
      "   small_dents_in_nails  inflammatory_nails  blister  red_sore_around_nose  \\\n",
      "0                     0                   0        0                     0   \n",
      "1                     0                   0        0                     0   \n",
      "2                     0                   0        0                     0   \n",
      "3                     0                   0        0                     0   \n",
      "4                     0                   0        0                     0   \n",
      "\n",
      "   yellow_crust_ooze         prognosis  \n",
      "0                  0  Fungal infection  \n",
      "1                  0  Fungal infection  \n",
      "2                  0  Fungal infection  \n",
      "3                  0  Fungal infection  \n",
      "4                  0  Fungal infection  \n",
      "\n",
      "[5 rows x 133 columns]\n"
     ]
    }
   ],
   "source": [
    "import pandas as pd\n",
    "import numpy as np\n",
    "\n",
    "# Load the original data\n",
    "data = pd.read_csv('Training.csv').drop(columns=['Unnamed: 133'], errors='ignore')\n",
    "\n",
    "# Display the first few rows to understand the structure\n",
    "print(\"Original Data:\")\n",
    "print(data.head())"
   ]
  },
  {
   "cell_type": "code",
   "execution_count": 11,
   "metadata": {},
   "outputs": [
    {
     "name": "stdout",
     "output_type": "stream",
     "text": [
      "Data augmentation complete. Augmented dataset saved as Augmented_Data.csv\n"
     ]
    }
   ],
   "source": [
    "# Define the target number of rows per disease category\n",
    "target_count = 1000\n",
    "\n",
    "# Create a DataFrame to hold the augmented dataset\n",
    "augmented_data = pd.DataFrame(columns=data.columns)\n",
    "\n",
    "# Get a list of unique diseases\n",
    "unique_diseases = data['prognosis'].unique()\n",
    "\n",
    "# Loop over each disease category and augment data\n",
    "for disease in unique_diseases:\n",
    "    # Filter the data for the current disease\n",
    "    disease_data = data[data['prognosis'] == disease]\n",
    "    current_count = len(disease_data)\n",
    "    \n",
    "    # Calculate how many additional rows are needed to reach the target count\n",
    "    additional_rows_needed = target_count - current_count\n",
    "    \n",
    "    if additional_rows_needed > 0:\n",
    "        # Randomly sample rows from the existing data for the disease\n",
    "        sampled_data = disease_data.sample(n=additional_rows_needed, replace=True, random_state=42).copy()\n",
    "        \n",
    "        # Apply small random binary flips to create variations in binary columns\n",
    "        for column in sampled_data.columns:\n",
    "            if set(sampled_data[column].unique()) == {0, 1}:\n",
    "                # Flip a small percentage of binary values\n",
    "                flip_mask = np.random.rand(len(sampled_data)) < 0.1  # Adjust flip rate as needed (10% here)\n",
    "                sampled_data.loc[flip_mask, column] = 1 - sampled_data.loc[flip_mask, column]\n",
    "\n",
    "        # Append the sampled (and slightly modified) data to the disease data\n",
    "        disease_augmented = pd.concat([disease_data, sampled_data], ignore_index=True)\n",
    "    else:\n",
    "        # If no augmentation is needed, retain the original data\n",
    "        disease_augmented = disease_data\n",
    "\n",
    "    # Add the augmented data for this disease to the main dataset\n",
    "    augmented_data = pd.concat([augmented_data, disease_augmented], ignore_index=True)\n",
    "\n",
    "# Save the augmented dataset to a new CSV file\n",
    "output_path = 'Augmented_Data.csv'\n",
    "augmented_data.to_csv(output_path, index=False)\n",
    "\n",
    "print(f\"Data augmentation complete. Augmented dataset saved as {output_path}\")"
   ]
  }
 ],
 "metadata": {
  "kernelspec": {
   "display_name": "Python 3",
   "language": "python",
   "name": "python3"
  },
  "language_info": {
   "codemirror_mode": {
    "name": "ipython",
    "version": 3
   },
   "file_extension": ".py",
   "mimetype": "text/x-python",
   "name": "python",
   "nbconvert_exporter": "python",
   "pygments_lexer": "ipython3",
   "version": "3.12.5"
  }
 },
 "nbformat": 4,
 "nbformat_minor": 2
}
